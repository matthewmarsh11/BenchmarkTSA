{
 "cells": [
  {
   "cell_type": "code",
   "execution_count": null,
   "metadata": {},
   "outputs": [],
   "source": [
    "import numpy as np\n",
    "import pandas as pd\n",
    "import matplotlib.pyplot as plt\n"
   ]
  },
  {
   "cell_type": "code",
   "execution_count": 2,
   "metadata": {},
   "outputs": [],
   "source": [
    "import os\n",
    "# Define the folder path\n",
    "\n",
    "# Initialize an empty list to store dataframes\n",
    "dataframes = []\n",
    "A_df1 = pd.read_csv('datasets/battery_raw/B05_discharge_soh.csv')\n",
    "A_df2 = pd.read_csv('datasets/battery_raw/B07_discharge_soh.csv')\n",
    "# A_df3 = pd.read_csv('datasets/battery_raw/B18_discharge_soh.csv')\n",
    "\n",
    "\n",
    "B_df1 = pd.read_csv('datasets/battery_raw/B33_discharge_soh.csv')\n",
    "B_df2 = pd.read_csv('datasets/battery_raw/B34_discharge_soh.csv')\n",
    "\n",
    "C_df1 = pd.read_csv('datasets/battery_raw/B46_discharge_soh.csv')\n",
    "C_df2 = pd.read_csv('datasets/battery_raw/B47_discharge_soh.csv')\n",
    "C_df3 = pd.read_csv('datasets/battery_raw/B48_discharge_soh.csv')\n",
    "\n",
    "# Concatenate A, B, and C dataframes separately column-wise\n",
    "concatenated_A_df = pd.concat([A_df1, A_df2], axis=1)\n",
    "concatenated_B_df = pd.concat([B_df1, B_df2], axis=1)\n",
    "concatenated_C_df = pd.concat([C_df1, C_df2, C_df3], axis=1)\n",
    "\n"
   ]
  },
  {
   "cell_type": "code",
   "execution_count": 3,
   "metadata": {},
   "outputs": [],
   "source": [
    "# Extract the SOH columns from each concatenated dataframe\n",
    "SOH_A = concatenated_A_df['SOH']\n",
    "SOH_B = concatenated_B_df['SOH']\n",
    "SOH_C = concatenated_C_df['SOH']\n",
    "\n",
    "features_A = SOH_A\n",
    "features_B = SOH_B\n",
    "features_C = SOH_C\n",
    "\n",
    "targets_A = concatenated_A_df.drop('SOH', axis=1)\n",
    "targets_B = concatenated_B_df.drop('SOH', axis=1)\n",
    "targets_C = concatenated_C_df.drop('SOH', axis=1)\n"
   ]
  },
  {
   "cell_type": "code",
   "execution_count": 4,
   "metadata": {},
   "outputs": [
    {
     "data": {
      "text/plain": [
       "<function print(*args, sep=' ', end='\\n', file=None, flush=False)>"
      ]
     },
     "execution_count": 4,
     "metadata": {},
     "output_type": "execute_result"
    }
   ],
   "source": [
    "print"
   ]
  },
  {
   "cell_type": "code",
   "execution_count": 7,
   "metadata": {},
   "outputs": [],
   "source": [
    "\n",
    "# Save features to CSV\n",
    "features_A.to_csv('datasets/battery_clean/features_A.csv', index=False)\n",
    "features_B.to_csv('datasets/battery_clean/features_B.csv', index=False)\n",
    "features_C.to_csv('datasets/battery_clean/features_C.csv', index=False)\n",
    "\n",
    "# Save targets to CSV\n",
    "targets_A.to_csv('datasets/battery_clean/targets_A.csv', index=False)\n",
    "targets_B.to_csv('datasets/battery_clean/targets_B.csv', index=False)\n",
    "targets_C.to_csv('datasets/battery_clean/targets_C.csv', index=False)"
   ]
  },
  {
   "cell_type": "code",
   "execution_count": null,
   "metadata": {},
   "outputs": [],
   "source": []
  }
 ],
 "metadata": {
  "kernelspec": {
   "display_name": "BMTSA",
   "language": "python",
   "name": "python3"
  },
  "language_info": {
   "codemirror_mode": {
    "name": "ipython",
    "version": 3
   },
   "file_extension": ".py",
   "mimetype": "text/x-python",
   "name": "python",
   "nbconvert_exporter": "python",
   "pygments_lexer": "ipython3",
   "version": "3.12.5"
  }
 },
 "nbformat": 4,
 "nbformat_minor": 2
}
